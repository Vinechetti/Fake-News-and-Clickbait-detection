{
 "cells": [
  {
   "cell_type": "code",
   "execution_count": 9,
   "id": "81defda7-13b9-4609-bdc5-2c1d56f8e901",
   "metadata": {},
   "outputs": [],
   "source": [
    "import pandas as pd\n",
    "import matplotlib.pyplot as plt\n",
    "from config import config as cfg\n",
    "from config import utils"
   ]
  },
  {
   "cell_type": "code",
   "execution_count": 6,
   "id": "a27ebf5d-28a8-4c23-bb9f-c94ebc7a2500",
   "metadata": {},
   "outputs": [],
   "source": [
    "data_folder = utils.get_repo_path() / cfg.DATA_FOLDER"
   ]
  },
  {
   "cell_type": "code",
   "execution_count": 20,
   "id": "4df379ac-6838-441a-89e1-871d0a1f6531",
   "metadata": {},
   "outputs": [],
   "source": [
    "# manually importing the files because the datasets structures are inconsistent\n",
    "# the comments keep track of different datasets, because they have multiple files\n",
    "# for whatever reason\n",
    "clickbait_data = pd.read_csv(data_folder / \"clickbait_data.csv\") # 1\n",
    "evaluation = pd.read_csv(data_folder / \"evaluation.csv\", sep=';') # 2\n",
    "test1 = pd.read_csv(data_folder / \"test (1).csv\", sep=';')\n",
    "train2 = pd.read_csv(data_folder / \"train (2).csv\", sep=';')\n",
    "true_data = pd.read_csv(data_folder / \"true.csv\") # 3\n",
    "fake_data = pd.read_csv(data_folder / \"fake.csv\")\n",
    "fake_news_net = pd.read_csv(data_folder / \"FakeNewsNet.csv\") # 4"
   ]
  },
  {
   "cell_type": "code",
   "execution_count": 24,
   "id": "9d34bcb8-0b2c-4873-b50e-5826d1726aab",
   "metadata": {},
   "outputs": [
    {
     "data": {
      "text/html": [
       "<div>\n",
       "<style scoped>\n",
       "    .dataframe tbody tr th:only-of-type {\n",
       "        vertical-align: middle;\n",
       "    }\n",
       "\n",
       "    .dataframe tbody tr th {\n",
       "        vertical-align: top;\n",
       "    }\n",
       "\n",
       "    .dataframe thead th {\n",
       "        text-align: right;\n",
       "    }\n",
       "</style>\n",
       "<table border=\"1\" class=\"dataframe\">\n",
       "  <thead>\n",
       "    <tr style=\"text-align: right;\">\n",
       "      <th></th>\n",
       "      <th>headline</th>\n",
       "      <th>clickbait</th>\n",
       "    </tr>\n",
       "  </thead>\n",
       "  <tbody>\n",
       "    <tr>\n",
       "      <th>0</th>\n",
       "      <td>Should I Get Bings</td>\n",
       "      <td>1</td>\n",
       "    </tr>\n",
       "    <tr>\n",
       "      <th>1</th>\n",
       "      <td>Which TV Female Friend Group Do You Belong In</td>\n",
       "      <td>1</td>\n",
       "    </tr>\n",
       "    <tr>\n",
       "      <th>2</th>\n",
       "      <td>The New \"Star Wars: The Force Awakens\" Trailer...</td>\n",
       "      <td>1</td>\n",
       "    </tr>\n",
       "    <tr>\n",
       "      <th>3</th>\n",
       "      <td>This Vine Of New York On \"Celebrity Big Brothe...</td>\n",
       "      <td>1</td>\n",
       "    </tr>\n",
       "    <tr>\n",
       "      <th>4</th>\n",
       "      <td>A Couple Did A Stunning Photo Shoot With Their...</td>\n",
       "      <td>1</td>\n",
       "    </tr>\n",
       "  </tbody>\n",
       "</table>\n",
       "</div>"
      ],
      "text/plain": [
       "                                            headline  clickbait\n",
       "0                                 Should I Get Bings          1\n",
       "1      Which TV Female Friend Group Do You Belong In          1\n",
       "2  The New \"Star Wars: The Force Awakens\" Trailer...          1\n",
       "3  This Vine Of New York On \"Celebrity Big Brothe...          1\n",
       "4  A Couple Did A Stunning Photo Shoot With Their...          1"
      ]
     },
     "execution_count": 24,
     "metadata": {},
     "output_type": "execute_result"
    }
   ],
   "source": [
    "clickbait_data.head()"
   ]
  },
  {
   "cell_type": "markdown",
   "id": "6ec93645-dcab-4c79-abde-36deb17168a3",
   "metadata": {},
   "source": [
    "This one doesn't need changing anything."
   ]
  },
  {
   "cell_type": "code",
   "execution_count": 25,
   "id": "71836137-2ca3-4b79-a909-5b14a1dff100",
   "metadata": {},
   "outputs": [
    {
     "data": {
      "text/html": [
       "<div>\n",
       "<style scoped>\n",
       "    .dataframe tbody tr th:only-of-type {\n",
       "        vertical-align: middle;\n",
       "    }\n",
       "\n",
       "    .dataframe tbody tr th {\n",
       "        vertical-align: top;\n",
       "    }\n",
       "\n",
       "    .dataframe thead th {\n",
       "        text-align: right;\n",
       "    }\n",
       "</style>\n",
       "<table border=\"1\" class=\"dataframe\">\n",
       "  <thead>\n",
       "    <tr style=\"text-align: right;\">\n",
       "      <th></th>\n",
       "      <th>Unnamed: 0</th>\n",
       "      <th>title</th>\n",
       "      <th>text</th>\n",
       "      <th>label</th>\n",
       "    </tr>\n",
       "  </thead>\n",
       "  <tbody>\n",
       "    <tr>\n",
       "      <th>0</th>\n",
       "      <td>0</td>\n",
       "      <td>Sanders back in U.S. Senate, blasts 'coloniali...</td>\n",
       "      <td>WASHINGTON (Reuters) - Democratic U.S. preside...</td>\n",
       "      <td>1</td>\n",
       "    </tr>\n",
       "    <tr>\n",
       "      <th>1</th>\n",
       "      <td>1</td>\n",
       "      <td>Kremlin: Syria peoples' congress being 'active...</td>\n",
       "      <td>MOSCOW (Reuters) - A proposal to convene a con...</td>\n",
       "      <td>1</td>\n",
       "    </tr>\n",
       "    <tr>\n",
       "      <th>2</th>\n",
       "      <td>2</td>\n",
       "      <td>Oregon Cop Convicted Of Shattering Biker’s Co...</td>\n",
       "      <td>In a baffling fit of rage, an Oregon State Pol...</td>\n",
       "      <td>0</td>\n",
       "    </tr>\n",
       "    <tr>\n",
       "      <th>3</th>\n",
       "      <td>3</td>\n",
       "      <td>Twitter Erupts With Glee Over #CruzSexScandal...</td>\n",
       "      <td>The last thing any politician running for the ...</td>\n",
       "      <td>0</td>\n",
       "    </tr>\n",
       "    <tr>\n",
       "      <th>4</th>\n",
       "      <td>4</td>\n",
       "      <td>MUST WATCH VIDEO: Obama Tries To Trash Trump B...</td>\n",
       "      <td>This is too good to miss! Mr. Teleprompter did...</td>\n",
       "      <td>0</td>\n",
       "    </tr>\n",
       "  </tbody>\n",
       "</table>\n",
       "</div>"
      ],
      "text/plain": [
       "   Unnamed: 0                                              title  \\\n",
       "0           0  Sanders back in U.S. Senate, blasts 'coloniali...   \n",
       "1           1  Kremlin: Syria peoples' congress being 'active...   \n",
       "2           2   Oregon Cop Convicted Of Shattering Biker’s Co...   \n",
       "3           3   Twitter Erupts With Glee Over #CruzSexScandal...   \n",
       "4           4  MUST WATCH VIDEO: Obama Tries To Trash Trump B...   \n",
       "\n",
       "                                                text  label  \n",
       "0  WASHINGTON (Reuters) - Democratic U.S. preside...      1  \n",
       "1  MOSCOW (Reuters) - A proposal to convene a con...      1  \n",
       "2  In a baffling fit of rage, an Oregon State Pol...      0  \n",
       "3  The last thing any politician running for the ...      0  \n",
       "4  This is too good to miss! Mr. Teleprompter did...      0  "
      ]
     },
     "execution_count": 25,
     "metadata": {},
     "output_type": "execute_result"
    }
   ],
   "source": [
    "evaluation.head()"
   ]
  },
  {
   "cell_type": "code",
   "execution_count": 38,
   "id": "d03d9551-8987-42e3-a2b5-30d48e06e709",
   "metadata": {},
   "outputs": [],
   "source": [
    "evaluation.drop(columns=\"Unnamed: 0\", inplace=True)\n",
    "test1.drop(columns=\"Unnamed: 0\", inplace=True)\n",
    "train2.drop(columns=\"Unnamed: 0\", inplace=True)"
   ]
  },
  {
   "cell_type": "markdown",
   "id": "cf597588-ab78-4721-8613-85d6c74b896f",
   "metadata": {},
   "source": [
    "We can combine those three while keeping only the unique ones, the dataset is large enough that some unfortunate repeats can happen.\n",
    "Also, while we're at it - let's remove the beginning text from the 'text' column, if it starts with \"\\<CITY NAME\\> (REUTERS) \"."
   ]
  },
  {
   "cell_type": "code",
   "execution_count": 45,
   "id": "9294995e-7d05-40d6-b0d2-1a9d077ddf5f",
   "metadata": {},
   "outputs": [
    {
     "name": "stdout",
     "output_type": "stream",
     "text": [
      "40587\n",
      "39997\n"
     ]
    }
   ],
   "source": [
    "combined_df = pd.concat([evaluation, test1, train2], ignore_index=True)\n",
    "print(len(combined_df))\n",
    "df = combined_df.drop_duplicates(subset='title')\n",
    "print(len(df))\n",
    "df.loc[:, 'text'] = df['text'].str.replace(r'^[A-Z\\s]+?\\s*\\(Reuters\\)\\s*-\\s*', '', regex=True)\n"
   ]
  },
  {
   "cell_type": "code",
   "execution_count": 46,
   "id": "6228401e-1e3f-43a3-80c1-4ef704cfd1c6",
   "metadata": {},
   "outputs": [
    {
     "data": {
      "text/html": [
       "<div>\n",
       "<style scoped>\n",
       "    .dataframe tbody tr th:only-of-type {\n",
       "        vertical-align: middle;\n",
       "    }\n",
       "\n",
       "    .dataframe tbody tr th {\n",
       "        vertical-align: top;\n",
       "    }\n",
       "\n",
       "    .dataframe thead th {\n",
       "        text-align: right;\n",
       "    }\n",
       "</style>\n",
       "<table border=\"1\" class=\"dataframe\">\n",
       "  <thead>\n",
       "    <tr style=\"text-align: right;\">\n",
       "      <th></th>\n",
       "      <th>title</th>\n",
       "      <th>text</th>\n",
       "      <th>label</th>\n",
       "    </tr>\n",
       "  </thead>\n",
       "  <tbody>\n",
       "    <tr>\n",
       "      <th>0</th>\n",
       "      <td>Sanders back in U.S. Senate, blasts 'coloniali...</td>\n",
       "      <td>Democratic U.S. presidential hopeful Bernie Sa...</td>\n",
       "      <td>1</td>\n",
       "    </tr>\n",
       "    <tr>\n",
       "      <th>1</th>\n",
       "      <td>Kremlin: Syria peoples' congress being 'active...</td>\n",
       "      <td>A proposal to convene a congress of all Syria ...</td>\n",
       "      <td>1</td>\n",
       "    </tr>\n",
       "    <tr>\n",
       "      <th>2</th>\n",
       "      <td>Oregon Cop Convicted Of Shattering Biker’s Co...</td>\n",
       "      <td>In a baffling fit of rage, an Oregon State Pol...</td>\n",
       "      <td>0</td>\n",
       "    </tr>\n",
       "    <tr>\n",
       "      <th>3</th>\n",
       "      <td>Twitter Erupts With Glee Over #CruzSexScandal...</td>\n",
       "      <td>The last thing any politician running for the ...</td>\n",
       "      <td>0</td>\n",
       "    </tr>\n",
       "    <tr>\n",
       "      <th>4</th>\n",
       "      <td>MUST WATCH VIDEO: Obama Tries To Trash Trump B...</td>\n",
       "      <td>This is too good to miss! Mr. Teleprompter did...</td>\n",
       "      <td>0</td>\n",
       "    </tr>\n",
       "    <tr>\n",
       "      <th>...</th>\n",
       "      <td>...</td>\n",
       "      <td>...</td>\n",
       "      <td>...</td>\n",
       "    </tr>\n",
       "    <tr>\n",
       "      <th>40582</th>\n",
       "      <td>Mexico Senate committee OK's air transport dea...</td>\n",
       "      <td>A key committee in Mexico’s Senate on Thursday...</td>\n",
       "      <td>1</td>\n",
       "    </tr>\n",
       "    <tr>\n",
       "      <th>40583</th>\n",
       "      <td>BREAKING: HILLARY CLINTON’S STATE DEPARTMENT G...</td>\n",
       "      <td>IF SHE S NOT TOAST NOW THEN WE RE IN BIGGER TR...</td>\n",
       "      <td>0</td>\n",
       "    </tr>\n",
       "    <tr>\n",
       "      <th>40584</th>\n",
       "      <td>trump breaks from stump speech to admire beaut...</td>\n",
       "      <td>kremlin nato was created for agression  \\nruss...</td>\n",
       "      <td>0</td>\n",
       "    </tr>\n",
       "    <tr>\n",
       "      <th>40585</th>\n",
       "      <td>NFL PLAYER Delivers Courageous Message: Stop B...</td>\n",
       "      <td>Dallas Cowboys star wide receiver Dez Bryant t...</td>\n",
       "      <td>0</td>\n",
       "    </tr>\n",
       "    <tr>\n",
       "      <th>40586</th>\n",
       "      <td>NORDSTROM STOCK TAKES NOSEDIVE After Trump Twe...</td>\n",
       "      <td>UPDATE: Nordstrom stock closed up slightly tod...</td>\n",
       "      <td>0</td>\n",
       "    </tr>\n",
       "  </tbody>\n",
       "</table>\n",
       "<p>39997 rows × 3 columns</p>\n",
       "</div>"
      ],
      "text/plain": [
       "                                                   title  \\\n",
       "0      Sanders back in U.S. Senate, blasts 'coloniali...   \n",
       "1      Kremlin: Syria peoples' congress being 'active...   \n",
       "2       Oregon Cop Convicted Of Shattering Biker’s Co...   \n",
       "3       Twitter Erupts With Glee Over #CruzSexScandal...   \n",
       "4      MUST WATCH VIDEO: Obama Tries To Trash Trump B...   \n",
       "...                                                  ...   \n",
       "40582  Mexico Senate committee OK's air transport dea...   \n",
       "40583  BREAKING: HILLARY CLINTON’S STATE DEPARTMENT G...   \n",
       "40584  trump breaks from stump speech to admire beaut...   \n",
       "40585  NFL PLAYER Delivers Courageous Message: Stop B...   \n",
       "40586  NORDSTROM STOCK TAKES NOSEDIVE After Trump Twe...   \n",
       "\n",
       "                                                    text  label  \n",
       "0      Democratic U.S. presidential hopeful Bernie Sa...      1  \n",
       "1      A proposal to convene a congress of all Syria ...      1  \n",
       "2      In a baffling fit of rage, an Oregon State Pol...      0  \n",
       "3      The last thing any politician running for the ...      0  \n",
       "4      This is too good to miss! Mr. Teleprompter did...      0  \n",
       "...                                                  ...    ...  \n",
       "40582  A key committee in Mexico’s Senate on Thursday...      1  \n",
       "40583  IF SHE S NOT TOAST NOW THEN WE RE IN BIGGER TR...      0  \n",
       "40584  kremlin nato was created for agression  \\nruss...      0  \n",
       "40585  Dallas Cowboys star wide receiver Dez Bryant t...      0  \n",
       "40586  UPDATE: Nordstrom stock closed up slightly tod...      0  \n",
       "\n",
       "[39997 rows x 3 columns]"
      ]
     },
     "execution_count": 46,
     "metadata": {},
     "output_type": "execute_result"
    }
   ],
   "source": [
    "df"
   ]
  },
  {
   "cell_type": "markdown",
   "id": "6353ef74-b1a7-45f9-a56b-b2887ba2bea7",
   "metadata": {},
   "source": [
    "Ready for usage! Onto the other two..."
   ]
  },
  {
   "cell_type": "code",
   "execution_count": 55,
   "id": "ba42b718-44d9-41d6-9b3e-21871fa87ebb",
   "metadata": {},
   "outputs": [
    {
     "data": {
      "text/html": [
       "<div>\n",
       "<style scoped>\n",
       "    .dataframe tbody tr th:only-of-type {\n",
       "        vertical-align: middle;\n",
       "    }\n",
       "\n",
       "    .dataframe tbody tr th {\n",
       "        vertical-align: top;\n",
       "    }\n",
       "\n",
       "    .dataframe thead th {\n",
       "        text-align: right;\n",
       "    }\n",
       "</style>\n",
       "<table border=\"1\" class=\"dataframe\">\n",
       "  <thead>\n",
       "    <tr style=\"text-align: right;\">\n",
       "      <th></th>\n",
       "      <th>title</th>\n",
       "      <th>text</th>\n",
       "      <th>subject</th>\n",
       "      <th>date</th>\n",
       "    </tr>\n",
       "  </thead>\n",
       "  <tbody>\n",
       "    <tr>\n",
       "      <th>0</th>\n",
       "      <td>Donald Trump Sends Out Embarrassing New Year’...</td>\n",
       "      <td>Donald Trump just couldn t wish all Americans ...</td>\n",
       "      <td>News</td>\n",
       "      <td>December 31, 2017</td>\n",
       "    </tr>\n",
       "    <tr>\n",
       "      <th>1</th>\n",
       "      <td>Drunk Bragging Trump Staffer Started Russian ...</td>\n",
       "      <td>House Intelligence Committee Chairman Devin Nu...</td>\n",
       "      <td>News</td>\n",
       "      <td>December 31, 2017</td>\n",
       "    </tr>\n",
       "    <tr>\n",
       "      <th>2</th>\n",
       "      <td>Sheriff David Clarke Becomes An Internet Joke...</td>\n",
       "      <td>On Friday, it was revealed that former Milwauk...</td>\n",
       "      <td>News</td>\n",
       "      <td>December 30, 2017</td>\n",
       "    </tr>\n",
       "    <tr>\n",
       "      <th>3</th>\n",
       "      <td>Trump Is So Obsessed He Even Has Obama’s Name...</td>\n",
       "      <td>On Christmas day, Donald Trump announced that ...</td>\n",
       "      <td>News</td>\n",
       "      <td>December 29, 2017</td>\n",
       "    </tr>\n",
       "    <tr>\n",
       "      <th>4</th>\n",
       "      <td>Pope Francis Just Called Out Donald Trump Dur...</td>\n",
       "      <td>Pope Francis used his annual Christmas Day mes...</td>\n",
       "      <td>News</td>\n",
       "      <td>December 25, 2017</td>\n",
       "    </tr>\n",
       "  </tbody>\n",
       "</table>\n",
       "</div>"
      ],
      "text/plain": [
       "                                               title  \\\n",
       "0   Donald Trump Sends Out Embarrassing New Year’...   \n",
       "1   Drunk Bragging Trump Staffer Started Russian ...   \n",
       "2   Sheriff David Clarke Becomes An Internet Joke...   \n",
       "3   Trump Is So Obsessed He Even Has Obama’s Name...   \n",
       "4   Pope Francis Just Called Out Donald Trump Dur...   \n",
       "\n",
       "                                                text subject  \\\n",
       "0  Donald Trump just couldn t wish all Americans ...    News   \n",
       "1  House Intelligence Committee Chairman Devin Nu...    News   \n",
       "2  On Friday, it was revealed that former Milwauk...    News   \n",
       "3  On Christmas day, Donald Trump announced that ...    News   \n",
       "4  Pope Francis used his annual Christmas Day mes...    News   \n",
       "\n",
       "                date  \n",
       "0  December 31, 2017  \n",
       "1  December 31, 2017  \n",
       "2  December 30, 2017  \n",
       "3  December 29, 2017  \n",
       "4  December 25, 2017  "
      ]
     },
     "execution_count": 55,
     "metadata": {},
     "output_type": "execute_result"
    }
   ],
   "source": [
    "true_data.head()"
   ]
  },
  {
   "cell_type": "code",
   "execution_count": null,
   "id": "3047a772-2654-41f5-8be8-781a5928f699",
   "metadata": {},
   "outputs": [],
   "source": [
    "fake_data.head()"
   ]
  },
  {
   "cell_type": "code",
   "execution_count": null,
   "id": "95a7d3db-6632-4b77-a435-4b7f0961829c",
   "metadata": {},
   "outputs": [],
   "source": [
    "true_data['label'] = 1\n",
    "true_data.drop(columns='date', inplace=True) # won't be needed\n",
    "fake_data.['label'] = 0\n",
    "fake_data.drop(columns='date', inplace=True)"
   ]
  },
  {
   "cell_type": "code",
   "execution_count": 58,
   "id": "f99f01de-1bde-40c1-964c-a48516b05552",
   "metadata": {},
   "outputs": [],
   "source": [
    "df2 = pd.concat([true_data, fake_data], ignore_index=True)"
   ]
  },
  {
   "cell_type": "markdown",
   "id": "5e3ad1aa-eeab-4324-8854-090bd4bb6b53",
   "metadata": {},
   "source": [
    "Let's maybe try to concat it with the previous one?"
   ]
  },
  {
   "cell_type": "code",
   "execution_count": 59,
   "id": "12252ed5-5b37-47eb-8dd4-854ea89ad51d",
   "metadata": {},
   "outputs": [],
   "source": [
    "df3 = pd.concat([df, df2.drop(columns=\"subject\")])"
   ]
  },
  {
   "cell_type": "code",
   "execution_count": 61,
   "id": "a8457652-4606-4a2b-9dc6-adfd092f3d6a",
   "metadata": {},
   "outputs": [],
   "source": [
    "df4 = df3.drop_duplicates(subset='title')"
   ]
  },
  {
   "cell_type": "code",
   "execution_count": 62,
   "id": "161de437-8396-4d3c-9139-bce79bd240fd",
   "metadata": {},
   "outputs": [
    {
     "data": {
      "text/plain": [
       "41037"
      ]
     },
     "execution_count": 62,
     "metadata": {},
     "output_type": "execute_result"
    }
   ],
   "source": [
    "len(df4)"
   ]
  },
  {
   "cell_type": "code",
   "execution_count": 63,
   "id": "40e9997c-927e-4740-9331-6338eb89e60c",
   "metadata": {},
   "outputs": [
    {
     "data": {
      "text/plain": [
       "39997"
      ]
     },
     "execution_count": 63,
     "metadata": {},
     "output_type": "execute_result"
    }
   ],
   "source": [
    "len(df)"
   ]
  },
  {
   "cell_type": "markdown",
   "id": "e10d623d-7aa8-4740-944b-e22161ce4c65",
   "metadata": {},
   "source": [
    "There are a lot of duplicates in our datasets. Therefore let's use the combined one, but also let's save the dataframe that had the subjects listed, will be useful for data analysis."
   ]
  },
  {
   "cell_type": "code",
   "execution_count": 64,
   "id": "359b02ca-e779-4aac-b839-e2734f5714e9",
   "metadata": {},
   "outputs": [],
   "source": [
    "df4.to_csv(data_folder / \"fakenews_withtext.csv\")\n",
    "df3.drop(columns=[\"title\", \"text\"]).to_csv(data_folder / \"fakenews_subjects.csv\")"
   ]
  },
  {
   "cell_type": "markdown",
   "id": "742395a5-2b25-4414-b56e-b28b7eca4d1d",
   "metadata": {},
   "source": [
    "And let's check the last one."
   ]
  },
  {
   "cell_type": "code",
   "execution_count": 66,
   "id": "a42771c6-56ac-415f-a63a-21c0ca753994",
   "metadata": {},
   "outputs": [
    {
     "data": {
      "text/html": [
       "<div>\n",
       "<style scoped>\n",
       "    .dataframe tbody tr th:only-of-type {\n",
       "        vertical-align: middle;\n",
       "    }\n",
       "\n",
       "    .dataframe tbody tr th {\n",
       "        vertical-align: top;\n",
       "    }\n",
       "\n",
       "    .dataframe thead th {\n",
       "        text-align: right;\n",
       "    }\n",
       "</style>\n",
       "<table border=\"1\" class=\"dataframe\">\n",
       "  <thead>\n",
       "    <tr style=\"text-align: right;\">\n",
       "      <th></th>\n",
       "      <th>title</th>\n",
       "      <th>news_url</th>\n",
       "      <th>source_domain</th>\n",
       "      <th>tweet_num</th>\n",
       "      <th>real</th>\n",
       "    </tr>\n",
       "  </thead>\n",
       "  <tbody>\n",
       "    <tr>\n",
       "      <th>0</th>\n",
       "      <td>Kandi Burruss Explodes Over Rape Accusation on...</td>\n",
       "      <td>http://toofab.com/2017/05/08/real-housewives-a...</td>\n",
       "      <td>toofab.com</td>\n",
       "      <td>42</td>\n",
       "      <td>1</td>\n",
       "    </tr>\n",
       "    <tr>\n",
       "      <th>1</th>\n",
       "      <td>People's Choice Awards 2018: The best red carp...</td>\n",
       "      <td>https://www.today.com/style/see-people-s-choic...</td>\n",
       "      <td>www.today.com</td>\n",
       "      <td>0</td>\n",
       "      <td>1</td>\n",
       "    </tr>\n",
       "    <tr>\n",
       "      <th>2</th>\n",
       "      <td>Sophia Bush Sends Sweet Birthday Message to 'O...</td>\n",
       "      <td>https://www.etonline.com/news/220806_sophia_bu...</td>\n",
       "      <td>www.etonline.com</td>\n",
       "      <td>63</td>\n",
       "      <td>1</td>\n",
       "    </tr>\n",
       "    <tr>\n",
       "      <th>3</th>\n",
       "      <td>Colombian singer Maluma sparks rumours of inap...</td>\n",
       "      <td>https://www.dailymail.co.uk/news/article-33655...</td>\n",
       "      <td>www.dailymail.co.uk</td>\n",
       "      <td>20</td>\n",
       "      <td>1</td>\n",
       "    </tr>\n",
       "    <tr>\n",
       "      <th>4</th>\n",
       "      <td>Gossip Girl 10 Years Later: How Upper East Sid...</td>\n",
       "      <td>https://www.zerchoo.com/entertainment/gossip-g...</td>\n",
       "      <td>www.zerchoo.com</td>\n",
       "      <td>38</td>\n",
       "      <td>1</td>\n",
       "    </tr>\n",
       "  </tbody>\n",
       "</table>\n",
       "</div>"
      ],
      "text/plain": [
       "                                               title  \\\n",
       "0  Kandi Burruss Explodes Over Rape Accusation on...   \n",
       "1  People's Choice Awards 2018: The best red carp...   \n",
       "2  Sophia Bush Sends Sweet Birthday Message to 'O...   \n",
       "3  Colombian singer Maluma sparks rumours of inap...   \n",
       "4  Gossip Girl 10 Years Later: How Upper East Sid...   \n",
       "\n",
       "                                            news_url        source_domain  \\\n",
       "0  http://toofab.com/2017/05/08/real-housewives-a...           toofab.com   \n",
       "1  https://www.today.com/style/see-people-s-choic...        www.today.com   \n",
       "2  https://www.etonline.com/news/220806_sophia_bu...     www.etonline.com   \n",
       "3  https://www.dailymail.co.uk/news/article-33655...  www.dailymail.co.uk   \n",
       "4  https://www.zerchoo.com/entertainment/gossip-g...      www.zerchoo.com   \n",
       "\n",
       "   tweet_num  real  \n",
       "0         42     1  \n",
       "1          0     1  \n",
       "2         63     1  \n",
       "3         20     1  \n",
       "4         38     1  "
      ]
     },
     "execution_count": 66,
     "metadata": {},
     "output_type": "execute_result"
    }
   ],
   "source": [
    "fake_news_net.head()"
   ]
  },
  {
   "cell_type": "markdown",
   "id": "8d056672-932c-4643-9e55-dce3faa045bc",
   "metadata": {},
   "source": [
    "The news URL seems completely unneccessary. Let's keep the other columns, though."
   ]
  },
  {
   "cell_type": "code",
   "execution_count": 68,
   "id": "f4f44b5f-76a3-43fd-ba6e-2cf094b69bb4",
   "metadata": {},
   "outputs": [],
   "source": [
    "fake_news_net.drop(columns=\"news_url\").to_csv(data_folder / \"fakenews_notext.csv\")"
   ]
  }
 ],
 "metadata": {
  "kernelspec": {
   "display_name": "Python 3 (ipykernel)",
   "language": "python",
   "name": "python3"
  },
  "language_info": {
   "codemirror_mode": {
    "name": "ipython",
    "version": 3
   },
   "file_extension": ".py",
   "mimetype": "text/x-python",
   "name": "python",
   "nbconvert_exporter": "python",
   "pygments_lexer": "ipython3",
   "version": "3.12.3"
  }
 },
 "nbformat": 4,
 "nbformat_minor": 5
}
