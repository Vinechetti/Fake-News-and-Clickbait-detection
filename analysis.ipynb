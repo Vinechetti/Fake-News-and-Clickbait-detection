{
 "cells": [
  {
   "cell_type": "markdown",
   "id": "2b4df675-1263-42f5-9347-56e5400da482",
   "metadata": {},
   "source": [
    "# Fake News data analysis\n",
    "Firstly, let's import the data."
   ]
  },
  {
   "cell_type": "code",
   "execution_count": 1,
   "id": "aa7b1fc6-8930-470f-96ad-77198c350c54",
   "metadata": {},
   "outputs": [],
   "source": [
    "import matplotlib.pyplot as plt\n",
    "import seaborn as sns\n",
    "import pandas as pd\n",
    "import numpy as np\n",
    "from config import config as cfg\n",
    "from config import utils"
   ]
  },
  {
   "cell_type": "code",
   "execution_count": 2,
   "id": "74e7ead4-7ae3-44e9-947a-3692fe245527",
   "metadata": {},
   "outputs": [],
   "source": [
    "data_folder = utils.get_repo_path() / cfg.DATA_FOLDER\n",
    "plots_folder = utils.get_repo_path() / cfg.PLOTS_FOLDER"
   ]
  },
  {
   "cell_type": "code",
   "execution_count": 3,
   "id": "68a69ebc-30ab-4898-ae26-5b608276571b",
   "metadata": {},
   "outputs": [
    {
     "data": {
      "text/html": [
       "<div>\n",
       "<style scoped>\n",
       "    .dataframe tbody tr th:only-of-type {\n",
       "        vertical-align: middle;\n",
       "    }\n",
       "\n",
       "    .dataframe tbody tr th {\n",
       "        vertical-align: top;\n",
       "    }\n",
       "\n",
       "    .dataframe thead th {\n",
       "        text-align: right;\n",
       "    }\n",
       "</style>\n",
       "<table border=\"1\" class=\"dataframe\">\n",
       "  <thead>\n",
       "    <tr style=\"text-align: right;\">\n",
       "      <th></th>\n",
       "      <th>Unnamed: 0</th>\n",
       "      <th>title</th>\n",
       "      <th>text</th>\n",
       "      <th>label</th>\n",
       "    </tr>\n",
       "  </thead>\n",
       "  <tbody>\n",
       "    <tr>\n",
       "      <th>0</th>\n",
       "      <td>0</td>\n",
       "      <td>Sanders back in U.S. Senate, blasts 'coloniali...</td>\n",
       "      <td>Democratic U.S. presidential hopeful Bernie Sa...</td>\n",
       "      <td>1</td>\n",
       "    </tr>\n",
       "    <tr>\n",
       "      <th>1</th>\n",
       "      <td>1</td>\n",
       "      <td>Kremlin: Syria peoples' congress being 'active...</td>\n",
       "      <td>A proposal to convene a congress of all Syria ...</td>\n",
       "      <td>1</td>\n",
       "    </tr>\n",
       "    <tr>\n",
       "      <th>2</th>\n",
       "      <td>2</td>\n",
       "      <td>Oregon Cop Convicted Of Shattering Biker’s Co...</td>\n",
       "      <td>In a baffling fit of rage, an Oregon State Pol...</td>\n",
       "      <td>0</td>\n",
       "    </tr>\n",
       "    <tr>\n",
       "      <th>3</th>\n",
       "      <td>3</td>\n",
       "      <td>Twitter Erupts With Glee Over #CruzSexScandal...</td>\n",
       "      <td>The last thing any politician running for the ...</td>\n",
       "      <td>0</td>\n",
       "    </tr>\n",
       "    <tr>\n",
       "      <th>4</th>\n",
       "      <td>4</td>\n",
       "      <td>MUST WATCH VIDEO: Obama Tries To Trash Trump B...</td>\n",
       "      <td>This is too good to miss! Mr. Teleprompter did...</td>\n",
       "      <td>0</td>\n",
       "    </tr>\n",
       "  </tbody>\n",
       "</table>\n",
       "</div>"
      ],
      "text/plain": [
       "   Unnamed: 0                                              title  \\\n",
       "0           0  Sanders back in U.S. Senate, blasts 'coloniali...   \n",
       "1           1  Kremlin: Syria peoples' congress being 'active...   \n",
       "2           2   Oregon Cop Convicted Of Shattering Biker’s Co...   \n",
       "3           3   Twitter Erupts With Glee Over #CruzSexScandal...   \n",
       "4           4  MUST WATCH VIDEO: Obama Tries To Trash Trump B...   \n",
       "\n",
       "                                                text  label  \n",
       "0  Democratic U.S. presidential hopeful Bernie Sa...      1  \n",
       "1  A proposal to convene a congress of all Syria ...      1  \n",
       "2  In a baffling fit of rage, an Oregon State Pol...      0  \n",
       "3  The last thing any politician running for the ...      0  \n",
       "4  This is too good to miss! Mr. Teleprompter did...      0  "
      ]
     },
     "execution_count": 3,
     "metadata": {},
     "output_type": "execute_result"
    }
   ],
   "source": [
    "news_with_text = pd.read_csv(data_folder / \"fakenews_withtext.csv\")\n",
    "news_with_text.head()"
   ]
  },
  {
   "cell_type": "code",
   "execution_count": 4,
   "id": "7b39f533-2d23-40b2-87b5-e53944e3db48",
   "metadata": {},
   "outputs": [
    {
     "data": {
      "text/html": [
       "<div>\n",
       "<style scoped>\n",
       "    .dataframe tbody tr th:only-of-type {\n",
       "        vertical-align: middle;\n",
       "    }\n",
       "\n",
       "    .dataframe tbody tr th {\n",
       "        vertical-align: top;\n",
       "    }\n",
       "\n",
       "    .dataframe thead th {\n",
       "        text-align: right;\n",
       "    }\n",
       "</style>\n",
       "<table border=\"1\" class=\"dataframe\">\n",
       "  <thead>\n",
       "    <tr style=\"text-align: right;\">\n",
       "      <th></th>\n",
       "      <th>title</th>\n",
       "      <th>text</th>\n",
       "      <th>label</th>\n",
       "    </tr>\n",
       "  </thead>\n",
       "  <tbody>\n",
       "    <tr>\n",
       "      <th>0</th>\n",
       "      <td>Sanders back in U.S. Senate, blasts 'coloniali...</td>\n",
       "      <td>Democratic U.S. presidential hopeful Bernie Sa...</td>\n",
       "      <td>1</td>\n",
       "    </tr>\n",
       "    <tr>\n",
       "      <th>1</th>\n",
       "      <td>Kremlin: Syria peoples' congress being 'active...</td>\n",
       "      <td>A proposal to convene a congress of all Syria ...</td>\n",
       "      <td>1</td>\n",
       "    </tr>\n",
       "    <tr>\n",
       "      <th>2</th>\n",
       "      <td>Oregon Cop Convicted Of Shattering Biker’s Co...</td>\n",
       "      <td>In a baffling fit of rage, an Oregon State Pol...</td>\n",
       "      <td>0</td>\n",
       "    </tr>\n",
       "    <tr>\n",
       "      <th>3</th>\n",
       "      <td>Twitter Erupts With Glee Over #CruzSexScandal...</td>\n",
       "      <td>The last thing any politician running for the ...</td>\n",
       "      <td>0</td>\n",
       "    </tr>\n",
       "    <tr>\n",
       "      <th>4</th>\n",
       "      <td>MUST WATCH VIDEO: Obama Tries To Trash Trump B...</td>\n",
       "      <td>This is too good to miss! Mr. Teleprompter did...</td>\n",
       "      <td>0</td>\n",
       "    </tr>\n",
       "  </tbody>\n",
       "</table>\n",
       "</div>"
      ],
      "text/plain": [
       "                                               title  \\\n",
       "0  Sanders back in U.S. Senate, blasts 'coloniali...   \n",
       "1  Kremlin: Syria peoples' congress being 'active...   \n",
       "2   Oregon Cop Convicted Of Shattering Biker’s Co...   \n",
       "3   Twitter Erupts With Glee Over #CruzSexScandal...   \n",
       "4  MUST WATCH VIDEO: Obama Tries To Trash Trump B...   \n",
       "\n",
       "                                                text  label  \n",
       "0  Democratic U.S. presidential hopeful Bernie Sa...      1  \n",
       "1  A proposal to convene a congress of all Syria ...      1  \n",
       "2  In a baffling fit of rage, an Oregon State Pol...      0  \n",
       "3  The last thing any politician running for the ...      0  \n",
       "4  This is too good to miss! Mr. Teleprompter did...      0  "
      ]
     },
     "execution_count": 4,
     "metadata": {},
     "output_type": "execute_result"
    }
   ],
   "source": [
    "news_with_text.drop(columns=\"Unnamed: 0\", inplace=True)\n",
    "news_with_text.head()"
   ]
  },
  {
   "cell_type": "code",
   "execution_count": 5,
   "id": "2c365418-4611-410d-9d2b-a81a4da3adee",
   "metadata": {},
   "outputs": [
    {
     "data": {
      "text/html": [
       "<div>\n",
       "<style scoped>\n",
       "    .dataframe tbody tr th:only-of-type {\n",
       "        vertical-align: middle;\n",
       "    }\n",
       "\n",
       "    .dataframe tbody tr th {\n",
       "        vertical-align: top;\n",
       "    }\n",
       "\n",
       "    .dataframe thead th {\n",
       "        text-align: right;\n",
       "    }\n",
       "</style>\n",
       "<table border=\"1\" class=\"dataframe\">\n",
       "  <thead>\n",
       "    <tr style=\"text-align: right;\">\n",
       "      <th></th>\n",
       "      <th>title</th>\n",
       "      <th>source_domain</th>\n",
       "      <th>tweet_num</th>\n",
       "      <th>label</th>\n",
       "    </tr>\n",
       "  </thead>\n",
       "  <tbody>\n",
       "    <tr>\n",
       "      <th>0</th>\n",
       "      <td>Kandi Burruss Explodes Over Rape Accusation on...</td>\n",
       "      <td>toofab.com</td>\n",
       "      <td>42</td>\n",
       "      <td>1</td>\n",
       "    </tr>\n",
       "    <tr>\n",
       "      <th>1</th>\n",
       "      <td>People's Choice Awards 2018: The best red carp...</td>\n",
       "      <td>www.today.com</td>\n",
       "      <td>0</td>\n",
       "      <td>1</td>\n",
       "    </tr>\n",
       "    <tr>\n",
       "      <th>2</th>\n",
       "      <td>Sophia Bush Sends Sweet Birthday Message to 'O...</td>\n",
       "      <td>www.etonline.com</td>\n",
       "      <td>63</td>\n",
       "      <td>1</td>\n",
       "    </tr>\n",
       "    <tr>\n",
       "      <th>3</th>\n",
       "      <td>Colombian singer Maluma sparks rumours of inap...</td>\n",
       "      <td>www.dailymail.co.uk</td>\n",
       "      <td>20</td>\n",
       "      <td>1</td>\n",
       "    </tr>\n",
       "    <tr>\n",
       "      <th>4</th>\n",
       "      <td>Gossip Girl 10 Years Later: How Upper East Sid...</td>\n",
       "      <td>www.zerchoo.com</td>\n",
       "      <td>38</td>\n",
       "      <td>1</td>\n",
       "    </tr>\n",
       "  </tbody>\n",
       "</table>\n",
       "</div>"
      ],
      "text/plain": [
       "                                               title        source_domain  \\\n",
       "0  Kandi Burruss Explodes Over Rape Accusation on...           toofab.com   \n",
       "1  People's Choice Awards 2018: The best red carp...        www.today.com   \n",
       "2  Sophia Bush Sends Sweet Birthday Message to 'O...     www.etonline.com   \n",
       "3  Colombian singer Maluma sparks rumours of inap...  www.dailymail.co.uk   \n",
       "4  Gossip Girl 10 Years Later: How Upper East Sid...      www.zerchoo.com   \n",
       "\n",
       "   tweet_num  label  \n",
       "0         42      1  \n",
       "1          0      1  \n",
       "2         63      1  \n",
       "3         20      1  \n",
       "4         38      1  "
      ]
     },
     "execution_count": 5,
     "metadata": {},
     "output_type": "execute_result"
    }
   ],
   "source": [
    "news_no_text = pd.read_csv(data_folder / \"fakenews_notext.csv\")\n",
    "news_no_text.drop(columns=\"Unnamed: 0\", inplace=True)\n",
    "news_no_text.rename(columns={\"real\":\"label\"}, inplace=True)\n",
    "news_no_text.head()"
   ]
  },
  {
   "cell_type": "markdown",
   "id": "54c2c9df-42b5-40f2-bae8-37ae511eb233",
   "metadata": {},
   "source": [
    "First, let's analyze the fake news titles. Can we see which words are most commonly used?"
   ]
  },
  {
   "cell_type": "code",
   "execution_count": 6,
   "id": "0c7d917f-c3ac-4788-bcc6-74763206fb47",
   "metadata": {},
   "outputs": [
    {
     "name": "stdout",
     "output_type": "stream",
     "text": [
      "64233\n",
      "62761\n"
     ]
    },
    {
     "data": {
      "text/plain": [
       "[' Oregon Cop Convicted Of Shattering Biker’s Collarbone With Kick Forgot Dashcam Was On (VIDEO)',\n",
       " ' Twitter Erupts With Glee Over #CruzSexScandal Rumors (TWEETS)',\n",
       " 'MUST WATCH VIDEO: Obama Tries To Trash Trump But Turns Into A Babbling Mess [Video]',\n",
       " ' AL Cops Kill Suicidal Woman After Her Parents Call For Help (VIDEO)']"
      ]
     },
     "execution_count": 6,
     "metadata": {},
     "output_type": "execute_result"
    }
   ],
   "source": [
    "titles = pd.concat([news_with_text[['title','label']], news_no_text[['title','label']]], ignore_index=True)\n",
    "print(len(titles))\n",
    "titles = titles.drop_duplicates(subset='title', keep='first')\n",
    "print(len(titles))\n",
    "fake_titles = list(titles[titles['label'] == 0]['title'])\n",
    "fake_titles[:4]"
   ]
  },
  {
   "cell_type": "markdown",
   "id": "fcf81cb2-57b9-4076-961e-60c16109ef18",
   "metadata": {},
   "source": [
    "Let's create a list of ALL used words in titles. Let's filter it so that a token is only counted as a word if it has at least three letters, so we get rid of most prepositions, pronouns etc."
   ]
  },
  {
   "cell_type": "code",
   "execution_count": 7,
   "id": "ffaf3c59-86d3-453b-8f03-dc75d05efa6d",
   "metadata": {},
   "outputs": [
    {
     "data": {
      "text/plain": [
       "292794"
      ]
     },
     "execution_count": 7,
     "metadata": {},
     "output_type": "execute_result"
    }
   ],
   "source": [
    "all_words = []\n",
    "for title in fake_titles:\n",
    "    for word in title.split(\" \"):\n",
    "        if word != \" \" and word: # don't add empty spaces or empty strings\n",
    "            all_words.append(word)\n",
    "all_words = list(filter(lambda x: len(x)>=3, all_words))\n",
    "len(all_words)"
   ]
  },
  {
   "cell_type": "code",
   "execution_count": 8,
   "id": "023907eb-c337-4851-a11b-2558e58ea19d",
   "metadata": {},
   "outputs": [
    {
     "data": {
      "text/plain": [
       "[('Trump', 5428),\n",
       " ('The', 4149),\n",
       " ('For', 3457),\n",
       " ('(VIDEO)', 2630),\n",
       " ('And', 2050),\n",
       " ('With', 2024),\n",
       " ('[Video]', 1896),\n",
       " ('and', 1571),\n",
       " ('His', 1491),\n",
       " ('About', 1422),\n",
       " ('After', 1385),\n",
       " ('[VIDEO]', 1367),\n",
       " ('the', 1318),\n",
       " ('Trump’s', 1230),\n",
       " ('Just', 1201),\n",
       " ('WATCH:', 1045),\n",
       " ('From', 921),\n",
       " ('Obama', 914),\n",
       " ('Her', 897),\n",
       " ('Over', 896)]"
      ]
     },
     "execution_count": 8,
     "metadata": {},
     "output_type": "execute_result"
    }
   ],
   "source": [
    "from collections import Counter\n",
    "c = Counter(all_words)\n",
    "c.most_common(20)"
   ]
  },
  {
   "cell_type": "markdown",
   "id": "0331bc5a-8805-49d2-a449-d7c3ae52e29b",
   "metadata": {},
   "source": [
    "We can see a big problem. Words like \"Trump\" and \"Trump's\" are treated differently, even though they basically mean the same thing. There are also problems if the word ends or begins in a special symbol, like $\\textit{)}$. Let's normalize the words so that the problem is fixed."
   ]
  },
  {
   "cell_type": "code",
   "execution_count": 9,
   "id": "64b84969-a5d9-4302-a37f-22c2f30e6409",
   "metadata": {},
   "outputs": [],
   "source": [
    "import re\n",
    "\n",
    "def normalize_word(word):\n",
    "    word = word.lower()\n",
    "    word = re.sub(r\"^[^\\w]+|[^\\w]+$\", '', word)\n",
    "    word = re.sub(r\"(\\'s|’s)$\", '', word)\n",
    "    return word\n",
    "\n",
    "def merge_similar_words(counter):\n",
    "    normalized_counter = Counter()\n",
    "    for word, count in counter.items():\n",
    "        normalized_word = normalize_word(word)\n",
    "        normalized_counter[normalized_word] += count\n",
    "    return normalized_counter"
   ]
  },
  {
   "cell_type": "code",
   "execution_count": 10,
   "id": "31fa7d08-891d-43d5-81ae-98f460c268ec",
   "metadata": {},
   "outputs": [
    {
     "data": {
      "text/plain": [
       "[('trump', 7963),\n",
       " ('video', 6495),\n",
       " ('the', 6259),\n",
       " ('for', 4431),\n",
       " ('and', 3919),\n",
       " ('with', 2609),\n",
       " ('obama', 1806),\n",
       " ('about', 1640),\n",
       " ('his', 1626),\n",
       " ('watch', 1624),\n",
       " ('hillary', 1610),\n",
       " ('after', 1559),\n",
       " ('just', 1392),\n",
       " ('from', 1183),\n",
       " ('her', 1127),\n",
       " ('this', 1123),\n",
       " ('over', 1043),\n",
       " ('not', 1041),\n",
       " ('are', 1039),\n",
       " ('out', 1002)]"
      ]
     },
     "execution_count": 10,
     "metadata": {},
     "output_type": "execute_result"
    }
   ],
   "source": [
    "c = merge_similar_words(c)\n",
    "c.most_common(20)"
   ]
  },
  {
   "cell_type": "markdown",
   "id": "7e3c886b-287a-4127-8df2-152c1c6c1b74",
   "metadata": {},
   "source": [
    "We can obviously see that there are lots of words that are simply the most commonly used 3+ letter words in English and lots of prepositions and pronouns. However, we can easily just skip them manually and create a list of top 10 most commonly used words in the fake news titles. "
   ]
  },
  {
   "cell_type": "code",
   "execution_count": 11,
   "id": "b79c0874-8328-4091-a934-6122a8bba2fb",
   "metadata": {},
   "outputs": [
    {
     "data": {
      "text/plain": [
       "[('trump', 7963),\n",
       " ('video', 6495),\n",
       " ('the', 6259),\n",
       " ('for', 4431),\n",
       " ('and', 3919),\n",
       " ('with', 2609),\n",
       " ('obama', 1806),\n",
       " ('about', 1640),\n",
       " ('his', 1626),\n",
       " ('watch', 1624),\n",
       " ('hillary', 1610),\n",
       " ('after', 1559),\n",
       " ('just', 1392),\n",
       " ('from', 1183),\n",
       " ('her', 1127),\n",
       " ('this', 1123),\n",
       " ('over', 1043),\n",
       " ('not', 1041),\n",
       " ('are', 1039),\n",
       " ('out', 1002),\n",
       " ('that', 990),\n",
       " ('clinton', 950),\n",
       " ('new', 932),\n",
       " ('donald', 892),\n",
       " ('who', 881),\n",
       " ('will', 865),\n",
       " ('you', 864),\n",
       " ('president', 851),\n",
       " ('him', 821),\n",
       " ('news', 794),\n",
       " ('why', 772),\n",
       " ('gop', 760),\n",
       " ('has', 741),\n",
       " ('was', 739),\n",
       " ('white', 706),\n",
       " ('how', 701),\n",
       " ('what', 679),\n",
       " ('breaking', 674),\n",
       " ('black', 671),\n",
       " ('she', 650),\n",
       " ('it', 624),\n",
       " ('have', 618),\n",
       " ('says', 564),\n",
       " ('tweets', 561),\n",
       " ('their', 559),\n",
       " ('one', 539),\n",
       " ('gets', 537),\n",
       " ('down', 529),\n",
       " ('america', 494),\n",
       " ('media', 476)]"
      ]
     },
     "execution_count": 11,
     "metadata": {},
     "output_type": "execute_result"
    }
   ],
   "source": [
    "c.most_common(50)"
   ]
  },
  {
   "cell_type": "code",
   "execution_count": 12,
   "id": "5c556447-1795-406b-be44-819bb7e75c25",
   "metadata": {},
   "outputs": [],
   "source": [
    "top10 = {\"Trump\": 7963, \"VIDEO\": 6495, \"Obama\": 1806, \"WATCH\": 1624, \n",
    "         \"Hillary\": 1610, \"just\": 1392, \"over\": 1043, \"Clinton\": 950, \n",
    "         \"new\": 932, \"Donald\": 892}"
   ]
  },
  {
   "cell_type": "markdown",
   "id": "f018a362-f4d9-4f7c-8fa6-846d3cd23e1a",
   "metadata": {},
   "source": [
    "The reason for why words like *just*, *over* and *new* were kept is because those are commonly used for exaggerations.\n",
    "\n",
    "Examples: \n",
    "- \"OVER $500,000 stolen from taxpayers!\"\n",
    "- \"JUST NOW: Trump signed a controversial order\" \n",
    "- \"The NEW law can cost you millions\""
   ]
  },
  {
   "cell_type": "code",
   "execution_count": 23,
   "id": "d95e5fbd-3102-4f83-a968-4f2b2232f45f",
   "metadata": {},
   "outputs": [
    {
     "data": {
      "image/png": "[encoded data removed]",
      "text/plain": [
       "<Figure size 600x600 with 1 Axes>"
      ]
     },
     "metadata": {},
     "output_type": "display_data"
    }
   ],
   "source": [
    "labels = []\n",
    "sizes = []\n",
    "for x, y in top10.items():\n",
    "    labels.append(x)\n",
    "    sizes.append(y)\n",
    "sns.set_style(\"whitegrid\")\n",
    "plt.figure(figsize=(6,6))\n",
    "plt.pie(sizes, labels=labels, autopct='%1.1f%%')\n",
    "plt.title('Top 10 most common words in fake news titles')\n",
    "plt.savefig(plots_folder / \"titles_piechart.png\")\n",
    "plt.show()"
   ]
  },
  {
   "cell_type": "markdown",
   "id": "a1c1acdd-8571-4060-878a-4c001020fd6e",
   "metadata": {},
   "source": [
    "**Note: the percentages are referring to the top 10 list, not the whole usage.**\n",
    "\n",
    "Most commonly used words are:\n",
    "- politicans' names, mainly the presidents or presidential candidates\n",
    "- words that urge you to click on the title (\"WATCH\" or \"[VIDEO]\")\n",
    "- exaggerating words, as shown before.\n",
    "  \n",
    "Let's now switch our focus to the news contents and try doing the same analysis."
   ]
  },
  {
   "cell_type": "code",
   "execution_count": 14,
   "id": "a412484a-1009-4921-adb5-56b3842a1037",
   "metadata": {},
   "outputs": [],
   "source": [
    "fake_text = list(news_with_text[news_with_text['label'] == 0]['text'])"
   ]
  },
  {
   "cell_type": "code",
   "execution_count": 15,
   "id": "6a733e92-cb7f-4ea1-8b82-b63d8294b626",
   "metadata": {},
   "outputs": [
    {
     "data": {
      "text/plain": [
       "'In a baffling fit of rage, an Oregon State Police officer has been convicted of ramming his car into a stopped motorcyclist then kicking the dazed man so hard in the chest that he would need a metal plate and screws to repair his shattered collarbone and ribs. What State Police Captain Rob Edwards didn t know was that his department have installed a functioning dashboard camera. It captured the entire shocking scene.The 2012 incident with a chase that the victim says he didn t know was happening. The first he learned of Edwards  presence was when the cop was running directly into the back of his motorcycle, spilling the man from his bike. The man gets up with his hands raised only to find Edwards rushing at him with his pistol held sideways, probably imitating something he saw in a movie. The biker, identified as Justin Wilkens, barely had time to say  What did I do?  before Edwards kicked him square in the chest with such force that Wilkens would later learn he broke his collarbone and several ribs.[youtube https://youtu.be/7Uuo_CiiPk8?t=3m32s]Edwards would later say that he was  frustrated  with Wilkens for not complying to his demands sooner (how?), and that he didn t realize his car was equipped with a functioning dashcam.What Edwards didn t know was that the unmarked car he was driving was equipped with a functioning dashboard camera.So when Edwards eventually struck Justin Wilkens  motorcycle with his car, then pulled his gun and kicked Wilkens in the chest, he did not know that the whole episode would be played   again and again   before a U.S. District Court jury.It s not hard to see why the dashcam was a bitter pill for Edwards   thanks to the footage his trial lasted all of three days and he was promptly convicted. He and his department will now have to pay $180,000 in damages. Bizarrely, Wilkens could have received more but the jury decided that a cop pointing a pistol at his head didn t constitute psychological damages. How militarized has law enforcement become in America?A cop aiming sideways guns at complying suspects is now considered so routine that courts are suggesting people just get used to it.In the past year, the conversation over police cameras has consumed the debate over police abuse. Some critics have pointed out that cameras didn t lead to justice for victims of police abuse like 12-year-old Tamir Rice and in the horrific death of Eric Garner. But on the other hand, it s hard to imagine cops like Edwards receiving any sort of punishment without them. For instances where cops cross the line, video of them doing so can be a godsend to the victims. Juries tend to err on the side of the police, but even they can t ignore what they see with their own eyes. Usually.Cops know this as well as anyone. It s no surprise that Edwards lamented his dashcam. Under the impression it wasn t working, he felt at ease shattering a man s collarbone because he was  frustrated. Feature image via YouTube'"
      ]
     },
     "execution_count": 15,
     "metadata": {},
     "output_type": "execute_result"
    }
   ],
   "source": [
    "fake_text[0]"
   ]
  },
  {
   "cell_type": "markdown",
   "id": "dd54e7cb-31a2-4848-ae2f-499fab1ee0ac",
   "metadata": {},
   "source": [
    "This time, let's set the minimal threshold to four letters. We are analyzing full sentences, so three letter words are more likely to happen and they won't change the actual sentiment of the text."
   ]
  },
  {
   "cell_type": "code",
   "execution_count": 16,
   "id": "d133f684-ed9e-42b6-a374-ad2565ccc279",
   "metadata": {},
   "outputs": [
    {
     "data": {
      "text/plain": [
       "5063243"
      ]
     },
     "execution_count": 16,
     "metadata": {},
     "output_type": "execute_result"
    }
   ],
   "source": [
    "text_words = []\n",
    "for title in fake_text:\n",
    "    for word in title.split(\" \"):\n",
    "        if word != \" \" and word: # don't add empty spaces or empty strings\n",
    "            text_words.append(word)\n",
    "text_words = list(filter(lambda x: len(x)>=4, text_words))\n",
    "len(text_words)"
   ]
  },
  {
   "cell_type": "code",
   "execution_count": 17,
   "id": "485c01b2-ab8a-4ab9-9032-aa504e7fd552",
   "metadata": {},
   "outputs": [],
   "source": [
    "c2 = merge_similar_words(Counter(text_words))"
   ]
  },
  {
   "cell_type": "code",
   "execution_count": 18,
   "id": "19995bfa-b009-4117-911a-f3ddf720e0c4",
   "metadata": {},
   "outputs": [
    {
     "data": {
      "text/plain": [
       "[('that', 127400),\n",
       " ('trump', 67709),\n",
       " ('with', 51766),\n",
       " ('this', 45886),\n",
       " ('have', 38694),\n",
       " ('they', 38674),\n",
       " ('from', 33092),\n",
       " ('about', 27411),\n",
       " ('their', 25079),\n",
       " ('said', 24605),\n",
       " ('people', 22487),\n",
       " ('what', 20714),\n",
       " ('will', 20583),\n",
       " ('president', 20277),\n",
       " ('would', 19898),\n",
       " ('been', 18939),\n",
       " ('more', 18296),\n",
       " ('just', 17906),\n",
       " ('when', 17760),\n",
       " ('were', 17113),\n",
       " ('donald', 15913),\n",
       " ('there', 15800),\n",
       " ('like', 15379),\n",
       " ('clinton', 14590),\n",
       " ('which', 14307),\n",
       " ('because', 13674),\n",
       " ('obama', 13568),\n",
       " ('after', 13509),\n",
       " ('also', 12554),\n",
       " ('even', 12164),\n",
       " ('than', 11887),\n",
       " ('them', 11852),\n",
       " ('over', 11614),\n",
       " ('only', 11010),\n",
       " ('time', 10966),\n",
       " ('into', 10885),\n",
       " ('other', 10757),\n",
       " ('hillary', 10727),\n",
       " ('news', 10682),\n",
       " ('white', 10655),\n",
       " ('being', 10152),\n",
       " ('state', 9798),\n",
       " ('image', 9793),\n",
       " ('some', 9652),\n",
       " ('campaign', 9319),\n",
       " ('should', 9314),\n",
       " ('know', 9026),\n",
       " ('these', 8861),\n",
       " ('against', 8782),\n",
       " ('going', 8655)]"
      ]
     },
     "execution_count": 18,
     "metadata": {},
     "output_type": "execute_result"
    }
   ],
   "source": [
    "c2.most_common(50)"
   ]
  },
  {
   "cell_type": "markdown",
   "id": "ea005b14-29fd-4b07-a972-4cd580b282bb",
   "metadata": {},
   "source": [
    "Again, let's manually create the counter with the actually meaningful words:"
   ]
  },
  {
   "cell_type": "code",
   "execution_count": 19,
   "id": "1d72252c-7c15-498c-ba1c-8b3e8a6bd498",
   "metadata": {},
   "outputs": [],
   "source": [
    "top10_2 = {\"Trump\": 67709, \"people\": 22487, \"president\": 20277, \"would\": 19898, \n",
    "           \"more\": 18296, \"just\": 17906, \"Donald\": 15913, \"Clinton\": 14590, \n",
    "           \"Obama\": 13568, \"even\": 12164}"
   ]
  },
  {
   "cell_type": "code",
   "execution_count": 22,
   "id": "7baedf80-8449-457a-b649-f5d370212dc2",
   "metadata": {},
   "outputs": [
    {
     "data": {
      "image/png": "[encoded data removed]",
      "text/plain": [
       "<Figure size 600x600 with 1 Axes>"
      ]
     },
     "metadata": {},
     "output_type": "display_data"
    }
   ],
   "source": [
    "labels = []\n",
    "sizes = []\n",
    "for x, y in top10_2.items():\n",
    "    labels.append(x)\n",
    "    sizes.append(y)\n",
    "\n",
    "sns.set_style(\"whitegrid\")\n",
    "plt.figure(figsize=(6,6))\n",
    "plt.pie(sizes, labels=labels, autopct='%1.1f%%')\n",
    "plt.title('Top 10 words by usage in fake news articles')\n",
    "plt.savefig(plots_folder / \"articles_piechart.png\")\n",
    "plt.show()"
   ]
  },
  {
   "cell_type": "markdown",
   "id": "b0ff0a18-49ff-4062-b36c-6cc26596a473",
   "metadata": {},
   "source": [
    "**Note: the percentages are referring to the top 10 list, not the whole usage.**\n",
    "\n",
    "Let's now analyze the news subjects that are most commonly the victims of fake news. We can already take a guess that politics is going to dominate the pie chart, right?"
   ]
  },
  {
   "cell_type": "code",
   "execution_count": 27,
   "id": "5a0e845f-8c63-4c63-9c8c-3e262c7c6349",
   "metadata": {},
   "outputs": [
    {
     "data": {
      "text/html": [
       "<div>\n",
       "<style scoped>\n",
       "    .dataframe tbody tr th:only-of-type {\n",
       "        vertical-align: middle;\n",
       "    }\n",
       "\n",
       "    .dataframe tbody tr th {\n",
       "        vertical-align: top;\n",
       "    }\n",
       "\n",
       "    .dataframe thead th {\n",
       "        text-align: right;\n",
       "    }\n",
       "</style>\n",
       "<table border=\"1\" class=\"dataframe\">\n",
       "  <thead>\n",
       "    <tr style=\"text-align: right;\">\n",
       "      <th></th>\n",
       "      <th>subject</th>\n",
       "      <th>label</th>\n",
       "    </tr>\n",
       "  </thead>\n",
       "  <tbody>\n",
       "    <tr>\n",
       "      <th>0</th>\n",
       "      <td>politicsNews</td>\n",
       "      <td>1</td>\n",
       "    </tr>\n",
       "    <tr>\n",
       "      <th>1</th>\n",
       "      <td>politicsNews</td>\n",
       "      <td>1</td>\n",
       "    </tr>\n",
       "    <tr>\n",
       "      <th>2</th>\n",
       "      <td>politicsNews</td>\n",
       "      <td>1</td>\n",
       "    </tr>\n",
       "    <tr>\n",
       "      <th>3</th>\n",
       "      <td>politicsNews</td>\n",
       "      <td>1</td>\n",
       "    </tr>\n",
       "    <tr>\n",
       "      <th>4</th>\n",
       "      <td>politicsNews</td>\n",
       "      <td>1</td>\n",
       "    </tr>\n",
       "  </tbody>\n",
       "</table>\n",
       "</div>"
      ],
      "text/plain": [
       "        subject  label\n",
       "0  politicsNews      1\n",
       "1  politicsNews      1\n",
       "2  politicsNews      1\n",
       "3  politicsNews      1\n",
       "4  politicsNews      1"
      ]
     },
     "execution_count": 27,
     "metadata": {},
     "output_type": "execute_result"
    }
   ],
   "source": [
    "subjects = pd.read_csv(data_folder / \"fakenews_subjects.csv\")\n",
    "subjects.drop(columns=\"Unnamed: 0\", inplace=True)\n",
    "subjects.head()"
   ]
  },
  {
   "cell_type": "code",
   "execution_count": 30,
   "id": "340e163e-2780-450d-808d-1202a25eabc8",
   "metadata": {},
   "outputs": [
    {
     "data": {
      "text/plain": [
       "{'Government News', 'Middle-east', 'News', 'US_News', 'left-news', 'politics'}"
      ]
     },
     "execution_count": 30,
     "metadata": {},
     "output_type": "execute_result"
    }
   ],
   "source": [
    "fake_subjects = list(subjects[subjects['label'] == 0]['subject'])\n",
    "set(fake_subjects)"
   ]
  },
  {
   "cell_type": "code",
   "execution_count": null,
   "id": "2f73e5db-77d0-482f-97be-404e03fe9f8c",
   "metadata": {},
   "outputs": [],
   "source": []
  }
 ],
 "metadata": {
  "kernelspec": {
   "display_name": "Python 3 (ipykernel)",
   "language": "python",
   "name": "python3"
  },
  "language_info": {
   "codemirror_mode": {
    "name": "ipython",
    "version": 3
   },
   "file_extension": ".py",
   "mimetype": "text/x-python",
   "name": "python",
   "nbconvert_exporter": "python",
   "pygments_lexer": "ipython3",
   "version": "3.12.3"
  }
 },
 "nbformat": 4,
 "nbformat_minor": 5
}
